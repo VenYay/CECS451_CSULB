{
  "nbformat": 4,
  "nbformat_minor": 0,
  "metadata": {
    "colab": {
      "provenance": [],
      "authorship_tag": "ABX9TyO6qY4vbtmwmrM6q5Vv8tXF",
      "include_colab_link": true
    },
    "kernelspec": {
      "name": "python3",
      "display_name": "Python 3"
    },
    "language_info": {
      "name": "python"
    }
  },
  "cells": [
    {
      "cell_type": "markdown",
      "metadata": {
        "id": "view-in-github",
        "colab_type": "text"
      },
      "source": [
        "<a href=\"https://colab.research.google.com/github/VenYay/CECS451_CSULB/blob/main/pi.ipynb\" target=\"_parent\"><img src=\"https://colab.research.google.com/assets/colab-badge.svg\" alt=\"Open In Colab\"/></a>"
      ]
    },
    {
      "cell_type": "markdown",
      "source": [
        "# Nathan Venier - CECS 451, Estimating Pi"
      ],
      "metadata": {
        "id": "QSRKpDlgztau"
      }
    },
    {
      "cell_type": "code",
      "execution_count": 1,
      "metadata": {
        "id": "5Nc_ZeENlymG"
      },
      "outputs": [],
      "source": [
        "import math\n",
        "import numpy as np"
      ]
    },
    {
      "cell_type": "code",
      "source": [
        "# Sets up the points as a key-value pairing of lists\n",
        "n = {'10 ^ 3': 10**3, '10 ^ 4': 10**4, '10 ^ 5': 10**5, '10 ^ 6': 10**6}\n",
        "\n",
        "rand_vals = {}\n",
        "\n",
        "for key, value in n.items():\n",
        "    rand_vals[key] = np.random.rand(2, value)\n",
        "\n",
        "# Values are pairing in parallel lists in an [N x 2] array"
      ],
      "metadata": {
        "id": "R1W9KbN_mnaA"
      },
      "execution_count": 41,
      "outputs": []
    },
    {
      "cell_type": "code",
      "source": [
        "# A is the number of spots caught in the circle\n",
        "A = {}\n",
        "# approx_pi holds the approximated value of pi\n",
        "approx_pi = {}\n",
        "# err holds the approximated error\n",
        "err = {}\n",
        "\n",
        "# Euclidian distance\n",
        "dist = 0\n",
        "\n",
        "# Lists for graphing\n",
        "is_inside = []\n",
        "x = []\n",
        "y = []\n",
        "\n",
        "for key, value in rand_vals.items():\n",
        "    # Counts number of points that appear in pi/4\n",
        "    dist = np.sqrt(np.square(value[0]) + np.square(value[1]))\n",
        "    A[key] = np.sum(dist < 1)\n",
        "\n",
        "    approx_pi[key] = 4 * A[key] / n[key]\n",
        "    err[key] = abs(approx_pi[key] - math.pi) * 100\n",
        "\n",
        "    # Print the results\n",
        "    print(\"{}   pi = {:.4f}   error = {:.4f}\".format(key, approx_pi[key], err[key]))\n",
        "\n",
        "    # If statement to focus on \"10 ^ 4\" data for graphing\n",
        "    if key == '10 ^ 4':\n",
        "        # Use is_inside to store T/F values of a value being < 1\n",
        "        is_inside = dist < 1\n",
        "\n",
        "        # Get the x and y values\n",
        "        x = rand_vals[key][0]\n",
        "        y = rand_vals[key][1]"
      ],
      "metadata": {
        "colab": {
          "base_uri": "https://localhost:8080/"
        },
        "id": "y2yGtu-FoLlY",
        "outputId": "71162b6f-1dee-4a5f-cf45-230d63b0e864"
      },
      "execution_count": 60,
      "outputs": [
        {
          "output_type": "stream",
          "name": "stdout",
          "text": [
            "10 ^ 3   pi = 3.1000   error = 4.1593\n",
            "10 ^ 4   pi = 3.1656   error = 2.4007\n",
            "10 ^ 5   pi = 3.1384   error = 0.3193\n",
            "10 ^ 6   pi = 3.1407   error = 0.0849\n"
          ]
        }
      ]
    },
    {
      "cell_type": "code",
      "source": [
        "# Create lists for graphing\n",
        "less_than_one_x = []\n",
        "less_than_one_y = []\n",
        "greater_than_one_x = []\n",
        "greater_than_one_y = []\n",
        "\n",
        "for i in range(len(is_inside)):\n",
        "  if is_inside[i]:\n",
        "    less_than_one_x.append(x[i])\n",
        "    less_than_one_y.append(y[i])\n",
        "  else:\n",
        "    greater_than_one_x.append(x[i])\n",
        "    greater_than_one_y.append(y[i])"
      ],
      "metadata": {
        "id": "G3SjD3jlGSAn"
      },
      "execution_count": 62,
      "outputs": []
    },
    {
      "cell_type": "code",
      "source": [],
      "metadata": {
        "id": "_WmRb-vePr5m"
      },
      "execution_count": 63,
      "outputs": []
    },
    {
      "cell_type": "code",
      "source": [],
      "metadata": {
        "id": "Y46pVRo6PuRv"
      },
      "execution_count": null,
      "outputs": []
    }
  ]
}
{
  "nbformat": 4,
  "nbformat_minor": 0,
  "metadata": {
    "colab": {
      "provenance": [],
      "authorship_tag": "ABX9TyPHEBmozAnx8FRrfOfMvsde",
      "include_colab_link": true
    },
    "kernelspec": {
      "name": "python3",
      "display_name": "Python 3"
    },
    "language_info": {
      "name": "python"
    }
  },
  "cells": [
    {
      "cell_type": "markdown",
      "metadata": {
        "id": "view-in-github",
        "colab_type": "text"
      },
      "source": [
        "<a href=\"https://colab.research.google.com/github/VenYay/CECS451_CSULB/blob/main/pi.ipynb\" target=\"_parent\"><img src=\"https://colab.research.google.com/assets/colab-badge.svg\" alt=\"Open In Colab\"/></a>"
      ]
    },
    {
      "cell_type": "markdown",
      "source": [
        "# Nathan Venier - CECS 451, Estimating Pi"
      ],
      "metadata": {
        "id": "QSRKpDlgztau"
      }
    },
    {
      "cell_type": "code",
      "execution_count": 1,
      "metadata": {
        "id": "5Nc_ZeENlymG"
      },
      "outputs": [],
      "source": [
        "import math\n",
        "import numpy as np"
      ]
    },
    {
      "cell_type": "code",
      "source": [
        "# Sets up the points as a key-value pairing of lists\n",
        "n = {'n_pow_3': 10**3, 'n_pow_4': 10**4, 'n_pow_5': 10**5, 'n_pow_6': 10**6}\n",
        "\n",
        "rand_vals = {}\n",
        "\n",
        "for key, value in n.items():\n",
        "    rand_vals[key] = np.random.rand(2, value)\n",
        "\n",
        "# Values are pairing in parallel lists in an [N x 2] array\n",
        "print(type(rand_vals['n_pow_3']))"
      ],
      "metadata": {
        "colab": {
          "base_uri": "https://localhost:8080/"
        },
        "id": "R1W9KbN_mnaA",
        "outputId": "1f65fe69-d016-4983-95af-6897de7f7cb5"
      },
      "execution_count": 16,
      "outputs": [
        {
          "output_type": "stream",
          "name": "stdout",
          "text": [
            "<class 'numpy.ndarray'>\n"
          ]
        }
      ]
    },
    {
      "cell_type": "code",
      "source": [
        "A = 0\n",
        "dist = 0\n",
        "\n",
        "for key, value in rand_vals.items():\n",
        "    dist = np.sqrt(np.square(rand_vals[key][0]) + np.square(rand_vals[key][1]))\n",
        "    if dist < 1:\n",
        "        A = A + 1\n",
        "    else:\n",
        "        A = A + 0"
      ],
      "metadata": {
        "id": "y2yGtu-FoLlY"
      },
      "execution_count": null,
      "outputs": []
    }
  ]
}
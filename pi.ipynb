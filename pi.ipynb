{
  "nbformat": 4,
  "nbformat_minor": 0,
  "metadata": {
    "colab": {
      "provenance": [],
      "authorship_tag": "ABX9TyOWnjx8zuBf5tHoKnjqKlPu",
      "include_colab_link": true
    },
    "kernelspec": {
      "name": "python3",
      "display_name": "Python 3"
    },
    "language_info": {
      "name": "python"
    }
  },
  "cells": [
    {
      "cell_type": "markdown",
      "metadata": {
        "id": "view-in-github",
        "colab_type": "text"
      },
      "source": [
        "<a href=\"https://colab.research.google.com/github/VenYay/CECS451_CSULB/blob/main/pi.ipynb\" target=\"_parent\"><img src=\"https://colab.research.google.com/assets/colab-badge.svg\" alt=\"Open In Colab\"/></a>"
      ]
    },
    {
      "cell_type": "markdown",
      "source": [
        "# Nathan Venier - CECS 451, Estimating Pi"
      ],
      "metadata": {
        "id": "QSRKpDlgztau"
      }
    },
    {
      "cell_type": "code",
      "execution_count": 1,
      "metadata": {
        "id": "5Nc_ZeENlymG"
      },
      "outputs": [],
      "source": [
        "import math\n",
        "import numpy as np"
      ]
    },
    {
      "cell_type": "code",
      "source": [
        "# Sets up the points as a key-value pairing of lists\n",
        "n = {'10 ^ 3': 10**3, '10 ^ 4': 10**4, '10 ^ 5': 10**5, '10 ^ 6': 10**6}\n",
        "\n",
        "rand_vals = {}\n",
        "\n",
        "for key, value in n.items():\n",
        "    rand_vals[key] = np.random.rand(2, value)\n",
        "\n",
        "# Values are pairing in parallel lists in an [N x 2] array"
      ],
      "metadata": {
        "id": "R1W9KbN_mnaA"
      },
      "execution_count": 28,
      "outputs": []
    },
    {
      "cell_type": "code",
      "source": [
        "# A is the number of spots caught in the circle\n",
        "A = {}\n",
        "# approx_pi holds the approximated value of pi\n",
        "approx_pi = {}\n",
        "# err holds the approximated error\n",
        "err = {}\n",
        "\n",
        "# Euclidian distance\n",
        "dist = 0\n",
        "\n",
        "for key, value in rand_vals.items():\n",
        "    # Counts number of points that appear in pi/4\n",
        "    dist = np.sqrt(np.square(rand_vals[key][0]) + np.square(rand_vals[key][1]))\n",
        "    A[key] = np.sum(dist < 1)\n",
        "\n",
        "    approx_pi[key] = 4 * A[key] / n[key]\n",
        "    err[key] = abs(approx_pi[key] - math.pi)\n",
        "\n",
        "\n",
        "#print(A)\n",
        "#print(approx_pi)\n",
        "#print(err)\n",
        "\n",
        "for key in err.keys():\n",
        "    print(\"{}   pi = {:.4f}   error = {:.4f}\".format(key, approx_pi[key], err[key]))"
      ],
      "metadata": {
        "colab": {
          "base_uri": "https://localhost:8080/"
        },
        "id": "y2yGtu-FoLlY",
        "outputId": "f4192a80-f154-4cdd-cfe4-18ceb1241d2e"
      },
      "execution_count": 32,
      "outputs": [
        {
          "output_type": "stream",
          "name": "stdout",
          "text": [
            "10 ^ 3   pi = 3.1680   error = 0.0264\n",
            "10 ^ 4   pi = 3.1676   error = 0.0260\n",
            "10 ^ 5   pi = 3.1359   error = 0.0057\n",
            "10 ^ 6   pi = 3.1417   error = 0.0001\n"
          ]
        }
      ]
    },
    {
      "cell_type": "code",
      "source": [],
      "metadata": {
        "id": "G3SjD3jlGSAn"
      },
      "execution_count": null,
      "outputs": []
    }
  ]
}
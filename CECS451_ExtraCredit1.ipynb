{
  "nbformat": 4,
  "nbformat_minor": 0,
  "metadata": {
    "colab": {
      "provenance": [],
      "authorship_tag": "ABX9TyMWE5MvIvnG1a2/YSDFyfP/",
      "include_colab_link": true
    },
    "kernelspec": {
      "name": "python3",
      "display_name": "Python 3"
    },
    "language_info": {
      "name": "python"
    }
  },
  "cells": [
    {
      "cell_type": "markdown",
      "metadata": {
        "id": "view-in-github",
        "colab_type": "text"
      },
      "source": [
        "<a href=\"https://colab.research.google.com/github/VenYay/CECS451_CSULB/blob/main/CECS451_ExtraCredit1.ipynb\" target=\"_parent\"><img src=\"https://colab.research.google.com/assets/colab-badge.svg\" alt=\"Open In Colab\"/></a>"
      ]
    },
    {
      "cell_type": "code",
      "execution_count": 1,
      "metadata": {
        "id": "5Nc_ZeENlymG"
      },
      "outputs": [],
      "source": [
        "import math\n",
        "import numpy as np"
      ]
    },
    {
      "cell_type": "code",
      "source": [
        "n = {'n_pow_3': 10**3, 'n_pow_4': 10**4, 'n_pow_5': 10**5, 'n_pow_6': 10**6}\n",
        "\n",
        "rands_vals = {}\n",
        "\n",
        "for key, value in n.items():\n",
        "    rands_vals[key] = (np.random.rand(value), np.random.rand(value))"
      ],
      "metadata": {
        "colab": {
          "base_uri": "https://localhost:8080/"
        },
        "id": "R1W9KbN_mnaA",
        "outputId": "2884efb9-bd25-4f9d-adc7-cdf41e139dac"
      },
      "execution_count": 10,
      "outputs": [
        {
          "output_type": "stream",
          "name": "stdout",
          "text": [
            "<class 'tuple'>\n"
          ]
        }
      ]
    },
    {
      "cell_type": "code",
      "source": [],
      "metadata": {
        "id": "y2yGtu-FoLlY"
      },
      "execution_count": null,
      "outputs": []
    }
  ]
}
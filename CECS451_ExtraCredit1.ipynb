{
  "nbformat": 4,
  "nbformat_minor": 0,
  "metadata": {
    "colab": {
      "provenance": [],
      "authorship_tag": "ABX9TyOUlvr1GI7M1zZ4tvx2DQz2",
      "include_colab_link": true
    },
    "kernelspec": {
      "name": "python3",
      "display_name": "Python 3"
    },
    "language_info": {
      "name": "python"
    }
  },
  "cells": [
    {
      "cell_type": "markdown",
      "metadata": {
        "id": "view-in-github",
        "colab_type": "text"
      },
      "source": [
        "<a href=\"https://colab.research.google.com/github/VenYay/CECS451_CSULB/blob/main/CECS451_ExtraCredit1.ipynb\" target=\"_parent\"><img src=\"https://colab.research.google.com/assets/colab-badge.svg\" alt=\"Open In Colab\"/></a>"
      ]
    },
    {
      "cell_type": "code",
      "execution_count": 1,
      "metadata": {
        "id": "5Nc_ZeENlymG"
      },
      "outputs": [],
      "source": [
        "import math\n",
        "import numpy as np"
      ]
    },
    {
      "cell_type": "code",
      "source": [
        "n = {'n_pow_3': 10**3, 'n_pow_4': 10**4, 'n_pow_5': 10**5, 'n_pow_6': 10**6}\n",
        "\n",
        "x_rands = {}\n",
        "y_rands = {}\n",
        "\n",
        "for key, value in n.items():\n",
        "    x_rands[key] = np.random.rand(value)\n",
        "    y_rands[key] = np.random.rand(value)"
      ],
      "metadata": {
        "id": "R1W9KbN_mnaA"
      },
      "execution_count": 6,
      "outputs": []
    },
    {
      "cell_type": "code",
      "source": [],
      "metadata": {
        "id": "y2yGtu-FoLlY"
      },
      "execution_count": null,
      "outputs": []
    }
  ]
}
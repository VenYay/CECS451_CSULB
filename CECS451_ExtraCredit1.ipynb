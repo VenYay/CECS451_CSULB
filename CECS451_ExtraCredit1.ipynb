{
  "nbformat": 4,
  "nbformat_minor": 0,
  "metadata": {
    "colab": {
      "provenance": [],
      "authorship_tag": "ABX9TyM56Iv+nQWZvKENsb84kfo4",
      "include_colab_link": true
    },
    "kernelspec": {
      "name": "python3",
      "display_name": "Python 3"
    },
    "language_info": {
      "name": "python"
    }
  },
  "cells": [
    {
      "cell_type": "markdown",
      "metadata": {
        "id": "view-in-github",
        "colab_type": "text"
      },
      "source": [
        "<a href=\"https://colab.research.google.com/github/VenYay/CECS451_CSULB/blob/main/CECS451_ExtraCredit1.ipynb\" target=\"_parent\"><img src=\"https://colab.research.google.com/assets/colab-badge.svg\" alt=\"Open In Colab\"/></a>"
      ]
    },
    {
      "cell_type": "code",
      "execution_count": 1,
      "metadata": {
        "id": "5Nc_ZeENlymG"
      },
      "outputs": [],
      "source": [
        "import math\n",
        "import numpy as np"
      ]
    },
    {
      "cell_type": "code",
      "source": [
        "# Sets up the points as a key-value pairing of lists\n",
        "n = {'n_pow_3': 10**3, 'n_pow_4': 10**4, 'n_pow_5': 10**5, 'n_pow_6': 10**6}\n",
        "\n",
        "rand_vals = {}\n",
        "\n",
        "for key, value in n.items():\n",
        "    rand_vals[key] = np.random.rand(2, value)\n",
        "\n",
        "# Values are pairing in parallel lists in an [N x 2] array"
      ],
      "metadata": {
        "id": "R1W9KbN_mnaA"
      },
      "execution_count": 14,
      "outputs": []
    },
    {
      "cell_type": "code",
      "source": [],
      "metadata": {
        "id": "y2yGtu-FoLlY"
      },
      "execution_count": null,
      "outputs": []
    }
  ]
}